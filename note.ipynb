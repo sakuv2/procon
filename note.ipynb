{
 "metadata": {
  "language_info": {
   "codemirror_mode": {
    "name": "ipython",
    "version": 3
   },
   "file_extension": ".py",
   "mimetype": "text/x-python",
   "name": "python",
   "nbconvert_exporter": "python",
   "pygments_lexer": "ipython3",
   "version": "3.8.2-final"
  },
  "orig_nbformat": 2,
  "kernelspec": {
   "name": "python3",
   "display_name": "Python 3.8.2 64-bit ('.venv': venv)",
   "metadata": {
    "interpreter": {
     "hash": "e4297c829225b7e710ecd8ceb188534dff970445e90a1fea4ce9fb89f5dd864a"
    }
   }
  }
 },
 "nbformat": 4,
 "nbformat_minor": 2,
 "cells": [
  {
   "cell_type": "code",
   "execution_count": 43,
   "metadata": {},
   "outputs": [
    {
     "output_type": "execute_result",
     "data": {
      "text/plain": [
       "2"
      ]
     },
     "metadata": {},
     "execution_count": 43
    }
   ],
   "source": [
    "from dataclasses import dataclass\n",
    "from typing import Literal\n",
    "\n",
    "@dataclass\n",
    "class Ichimatsu:\n",
    "    x: int\n",
    "    y: int\n",
    "    k: int\n",
    "\n",
    "    def color(self, x: int, y: int) -> Literal[\"W\", \"B\"]:\n",
    "        fx = ((x - self.x) // self.k) % 2 == 0\n",
    "        fy = ((y - self.y) // self.k) % 2 == 0\n",
    "        return \"B\" if fx ^ fy else \"W\"\n",
    "\n",
    "matsu = Ichimatsu(1, 2, 3)\n",
    "matsu.color(0, 0)\n",
    "\n",
    "[True, False, True].count(True)"
   ]
  },
  {
   "cell_type": "code",
   "execution_count": 221,
   "metadata": {},
   "outputs": [
    {
     "output_type": "stream",
     "name": "stdout",
     "text": [
      "5 2 0\nFalse True 1\n2 2 1\n"
     ]
    },
    {
     "output_type": "execute_result",
     "data": {
      "text/plain": [
       "0"
      ]
     },
     "metadata": {},
     "execution_count": 221
    }
   ],
   "source": [
    "k = 3\n",
    "# True, False: 'W', 'B'\n",
    "x, y, c = 5, 2, 0\n",
    "x, y = (x % (2 * k)), (y % (2 * k))\n",
    "print(x, y, c)\n",
    "c = 1 - c if (x < k) ^ (y < k) else c\n",
    "print(x < k, y < k, c)\n",
    "x, y = x if x < k else x - k, y if y < k else y - k\n",
    "print(x, y, c) # 2, 0, False\n",
    "\n",
    "int('W' != 'W')"
   ]
  },
  {
   "cell_type": "code",
   "execution_count": 134,
   "metadata": {},
   "outputs": [
    {
     "output_type": "execute_result",
     "data": {
      "text/plain": [
       "-1"
      ]
     },
     "metadata": {},
     "execution_count": 134
    }
   ],
   "source": [
    "from itertools import product\n",
    "k = 3\n",
    "conds = {(x, y, c): 0 for x, y, c in product(range(k), range(k), [True, False])}\n",
    "conds[(0, 0, True)]\n",
    "\n",
    "x = 1\n",
    "x += 2\n",
    "x"
   ]
  },
  {
   "cell_type": "code",
   "execution_count": 227,
   "metadata": {},
   "outputs": [
    {
     "output_type": "execute_result",
     "data": {
      "text/plain": [
       "1"
      ]
     },
     "metadata": {},
     "execution_count": 227
    }
   ],
   "source": [
    "# k = 3\n",
    "# ac=[[[0]*(k+1) for i in range(k+1)] for l in range(2)]\n",
    "# ac\n",
    "from itertools import product\n",
    "p = lambda: product(range(k), range(k), [True, False])\n",
    "\n",
    "s = {x: 1 for x in p()}\n",
    "s[0, 0, True]"
   ]
  },
  {
   "cell_type": "code",
   "execution_count": 275,
   "metadata": {},
   "outputs": [
    {
     "output_type": "stream",
     "name": "stdout",
     "text": [
      "CPU times: user 1.35 s, sys: 56.1 ms, total: 1.41 s\nWall time: 1.42 s\n"
     ]
    }
   ],
   "source": [
    "%%time\n",
    "from itertools import product\n",
    "\n",
    "k = 1000\n",
    "p = lambda k: product(range(k), range(k), range(2))\n",
    "g = {z: 0 for z in p(k)}\n",
    "\n",
    "for x, y, c in p(k):\n",
    "    g[x, y, c]"
   ]
  },
  {
   "cell_type": "code",
   "execution_count": 280,
   "metadata": {},
   "outputs": [
    {
     "output_type": "stream",
     "name": "stdout",
     "text": [
      "CPU times: user 667 ms, sys: 25.3 ms, total: 693 ms\nWall time: 696 ms\n"
     ]
    }
   ],
   "source": [
    "%%time\n",
    "\n",
    "k = 1000\n",
    "g = [[[0, 0] for _ in range(k)] for _ in range(k)]\n",
    "p = lambda k: product((0,1), range(k), range(k))\n",
    "\n",
    "for l, i, j in p(k):\n",
    "    g[i][j][l]"
   ]
  }
 ]
}
