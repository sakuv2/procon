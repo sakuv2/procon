{
 "metadata": {
  "language_info": {
   "codemirror_mode": {
    "name": "ipython",
    "version": 3
   },
   "file_extension": ".py",
   "mimetype": "text/x-python",
   "name": "python",
   "nbconvert_exporter": "python",
   "pygments_lexer": "ipython3",
   "version": "3.8.2-final"
  },
  "orig_nbformat": 2,
  "kernelspec": {
   "name": "python3",
   "display_name": "Python 3.8.2 64-bit ('.venv': venv)",
   "metadata": {
    "interpreter": {
     "hash": "e4297c829225b7e710ecd8ceb188534dff970445e90a1fea4ce9fb89f5dd864a"
    }
   }
  }
 },
 "nbformat": 4,
 "nbformat_minor": 2,
 "cells": [
  {
   "cell_type": "code",
   "execution_count": 43,
   "metadata": {},
   "outputs": [
    {
     "output_type": "execute_result",
     "data": {
      "text/plain": [
       "2"
      ]
     },
     "metadata": {},
     "execution_count": 43
    }
   ],
   "source": [
    "from dataclasses import dataclass\n",
    "from typing import Literal\n",
    "\n",
    "@dataclass\n",
    "class Ichimatsu:\n",
    "    x: int\n",
    "    y: int\n",
    "    k: int\n",
    "\n",
    "    def color(self, x: int, y: int) -> Literal[\"W\", \"B\"]:\n",
    "        fx = ((x - self.x) // self.k) % 2 == 0\n",
    "        fy = ((y - self.y) // self.k) % 2 == 0\n",
    "        return \"B\" if fx ^ fy else \"W\"\n",
    "\n",
    "matsu = Ichimatsu(1, 2, 3)\n",
    "matsu.color(0, 0)\n",
    "\n",
    "[True, False, True].count(True)"
   ]
  }
 ]
}
