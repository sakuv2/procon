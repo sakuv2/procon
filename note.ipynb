{
 "metadata": {
  "language_info": {
   "codemirror_mode": {
    "name": "ipython",
    "version": 3
   },
   "file_extension": ".py",
   "mimetype": "text/x-python",
   "name": "python",
   "nbconvert_exporter": "python",
   "pygments_lexer": "ipython3",
   "version": "3.8.2"
  },
  "orig_nbformat": 2,
  "kernelspec": {
   "name": "pythonjvsc74a57bd0264ede5b97a1d6a57b2620b5f93e43a01d6e143bec9976a1edeeb85085777808",
   "display_name": "Python 3.8.2  ('.venv': venv)"
  },
  "metadata": {
   "interpreter": {
    "hash": "264ede5b97a1d6a57b2620b5f93e43a01d6e143bec9976a1edeeb85085777808"
   }
  }
 },
 "nbformat": 4,
 "nbformat_minor": 2,
 "cells": [
  {
   "cell_type": "code",
   "execution_count": 43,
   "metadata": {},
   "outputs": [
    {
     "output_type": "execute_result",
     "data": {
      "text/plain": [
       "2"
      ]
     },
     "metadata": {},
     "execution_count": 43
    }
   ],
   "source": [
    "from dataclasses import dataclass\n",
    "from typing import Literal\n",
    "\n",
    "@dataclass\n",
    "class Ichimatsu:\n",
    "    x: int\n",
    "    y: int\n",
    "    k: int\n",
    "\n",
    "    def color(self, x: int, y: int) -> Literal[\"W\", \"B\"]:\n",
    "        fx = ((x - self.x) // self.k) % 2 == 0\n",
    "        fy = ((y - self.y) // self.k) % 2 == 0\n",
    "        return \"B\" if fx ^ fy else \"W\"\n",
    "\n",
    "matsu = Ichimatsu(1, 2, 3)\n",
    "matsu.color(0, 0)\n",
    "\n",
    "[True, False, True].count(True)"
   ]
  },
  {
   "cell_type": "code",
   "execution_count": 221,
   "metadata": {},
   "outputs": [
    {
     "output_type": "stream",
     "name": "stdout",
     "text": [
      "5 2 0\nFalse True 1\n2 2 1\n"
     ]
    },
    {
     "output_type": "execute_result",
     "data": {
      "text/plain": [
       "0"
      ]
     },
     "metadata": {},
     "execution_count": 221
    }
   ],
   "source": [
    "k = 3\n",
    "# True, False: 'W', 'B'\n",
    "x, y, c = 5, 2, 0\n",
    "x, y = (x % (2 * k)), (y % (2 * k))\n",
    "print(x, y, c)\n",
    "c = 1 - c if (x < k) ^ (y < k) else c\n",
    "print(x < k, y < k, c)\n",
    "x, y = x if x < k else x - k, y if y < k else y - k\n",
    "print(x, y, c) # 2, 0, False\n",
    "\n",
    "int('W' != 'W')"
   ]
  },
  {
   "cell_type": "code",
   "execution_count": 134,
   "metadata": {},
   "outputs": [
    {
     "output_type": "execute_result",
     "data": {
      "text/plain": [
       "-1"
      ]
     },
     "metadata": {},
     "execution_count": 134
    }
   ],
   "source": [
    "from itertools import product\n",
    "k = 3\n",
    "conds = {(x, y, c): 0 for x, y, c in product(range(k), range(k), [True, False])}\n",
    "conds[(0, 0, True)]\n",
    "\n",
    "x = 1\n",
    "x += 2\n",
    "x"
   ]
  },
  {
   "cell_type": "code",
   "execution_count": 227,
   "metadata": {},
   "outputs": [
    {
     "output_type": "execute_result",
     "data": {
      "text/plain": [
       "1"
      ]
     },
     "metadata": {},
     "execution_count": 227
    }
   ],
   "source": [
    "# k = 3\n",
    "# ac=[[[0]*(k+1) for i in range(k+1)] for l in range(2)]\n",
    "# ac\n",
    "from itertools import product\n",
    "p = lambda: product(range(k), range(k), [True, False])\n",
    "\n",
    "s = {x: 1 for x in p()}\n",
    "s[0, 0, True]"
   ]
  },
  {
   "cell_type": "code",
   "execution_count": 275,
   "metadata": {},
   "outputs": [
    {
     "output_type": "stream",
     "name": "stdout",
     "text": [
      "CPU times: user 1.35 s, sys: 56.1 ms, total: 1.41 s\nWall time: 1.42 s\n"
     ]
    }
   ],
   "source": [
    "%%time\n",
    "from itertools import product\n",
    "\n",
    "k = 1000\n",
    "p = lambda k: product(range(k), range(k), range(2))\n",
    "g = {z: 0 for z in p(k)}\n",
    "\n",
    "for x, y, c in p(k):\n",
    "    g[x, y, c]"
   ]
  },
  {
   "cell_type": "code",
   "execution_count": 4,
   "metadata": {},
   "outputs": [
    {
     "output_type": "stream",
     "name": "stdout",
     "text": [
      "0 (1, 2)\nNone (2, 3)\n"
     ]
    }
   ],
   "source": [
    "from functools import reduce\n",
    "from operator import add\n",
    "\n",
    "reduce(lambda x, y: print(x, y), [(1, 2), (2, 3)], 0)"
   ]
  },
  {
   "cell_type": "code",
   "execution_count": 9,
   "metadata": {},
   "outputs": [
    {
     "output_type": "stream",
     "name": "stdout",
     "text": [
      "2 8\n2 4\n8 4\n"
     ]
    }
   ],
   "source": [
    "from itertools import combinations\n",
    "\n",
    "for x, y in combinations([2, 8, 4], 2):\n",
    "    print(x, y)"
   ]
  },
  {
   "cell_type": "code",
   "execution_count": 44,
   "metadata": {},
   "outputs": [
    {
     "output_type": "execute_result",
     "data": {
      "text/plain": [
       "4.5"
      ]
     },
     "metadata": {},
     "execution_count": 44
    }
   ],
   "source": [
    "def exp(n, m):\n",
    "    e = 0\n",
    "    p, q = 1-m/n, m/n\n",
    "    i = 0\n",
    "    while True:\n",
    "        i += 1\n",
    "        new = i * q ** (i-1) * p\n",
    "        if new < 1e-7:\n",
    "            break\n",
    "        e += new\n",
    "    return e\n",
    "\n",
    "n = 3\n",
    "ans = sum([exp(n, i) for i in range(1, n)])\n",
    "round(ans, 6)"
   ]
  },
  {
   "cell_type": "code",
   "execution_count": 45,
   "metadata": {},
   "outputs": [
    {
     "output_type": "stream",
     "name": "stdout",
     "text": [
      "0.000001\n"
     ]
    },
    {
     "output_type": "error",
     "ename": "IndexError",
     "evalue": "list index out of range",
     "traceback": [
      "\u001b[0;31m---------------------------------------------------------------------------\u001b[0m",
      "\u001b[0;31mIndexError\u001b[0m                                Traceback (most recent call last)",
      "\u001b[0;32m<ipython-input-45-d54cfad503d6>\u001b[0m in \u001b[0;36m<module>\u001b[0;34m\u001b[0m\n\u001b[1;32m      1\u001b[0m \u001b[0mprint\u001b[0m\u001b[0;34m(\u001b[0m\u001b[0;34mf'{1e-6:.6f}'\u001b[0m\u001b[0;34m)\u001b[0m\u001b[0;34m\u001b[0m\u001b[0;34m\u001b[0m\u001b[0m\n\u001b[1;32m      2\u001b[0m \u001b[0;34m\u001b[0m\u001b[0m\n\u001b[0;32m----> 3\u001b[0;31m \u001b[0;34m[\u001b[0m\u001b[0;36m1\u001b[0m\u001b[0;34m,\u001b[0m \u001b[0;36m2\u001b[0m\u001b[0;34m,\u001b[0m \u001b[0;36m3\u001b[0m\u001b[0;34m]\u001b[0m\u001b[0;34m[\u001b[0m\u001b[0;36m3\u001b[0m\u001b[0;34m]\u001b[0m\u001b[0;34m\u001b[0m\u001b[0;34m\u001b[0m\u001b[0m\n\u001b[0m",
      "\u001b[0;31mIndexError\u001b[0m: list index out of range"
     ]
    }
   ],
   "source": [
    "print(f'{1e-6:.6f}')"
   ]
  },
  {
   "cell_type": "code",
   "execution_count": 28,
   "metadata": {},
   "outputs": [
    {
     "output_type": "execute_result",
     "data": {
      "text/plain": [
       "22"
      ]
     },
     "metadata": {},
     "execution_count": 28
    }
   ],
   "source": [
    "h = 'DEADBEEFDEADBEEEEEEEEF'\n",
    "int(h, 16)"
   ]
  },
  {
   "cell_type": "code",
   "execution_count": 52,
   "metadata": {
    "tags": []
   },
   "outputs": [
    {
     "output_type": "stream",
     "name": "stdout",
     "text": [
      "[(['3 3', '...', '.#.', '..#', '#.#', '###', '...'], ['Yes']), (['3 3', '...', '#..', '#.#', '.#.', '.##', '##.'], ['No']), (['2 5', '.....', '..#..', '..##.', '.###.'], ['Yes'])]\n"
     ]
    }
   ],
   "source": [
    "import requests\n",
    "from bs4 import BeautifulSoup\n",
    "\n",
    "url = \"https://atcoder.jp/contests/past202012-open/tasks/past202012_e\"\n",
    "res = requests.get(url=url)\n",
    "soup = BeautifulSoup(res.text, \"html.parser\")\n",
    "inputs = []\n",
    "outputs = []\n",
    "for section in soup.find_all('section'):\n",
    "    h3 = section.find('h3')\n",
    "    if 'Sample Input' in h3.text:\n",
    "        inp: str = section.find('pre').text\n",
    "        inputs.append(inp.split('\\r\\n')[:-1])\n",
    "    if 'Sample Output' in h3.text:\n",
    "        out: str = section.find('pre').text\n",
    "        outputs.append(out.rstrip('\\r\\n'))\n",
    "        \n",
    "print(list(zip(inputs, outputs)))\n",
    "    # print(section)\n",
    "    # if 'sample' in pre.get('id'):\n",
    "        # print(pre)\n",
    "    # if '入力例' in section.find('h3').text:\n",
    "        # print(section.find(''))"
   ]
  },
  {
   "cell_type": "code",
   "execution_count": 56,
   "metadata": {},
   "outputs": [
    {
     "output_type": "execute_result",
     "data": {
      "text/plain": [
       "\"Param(inputs=['1 3', '1 1 1'], outputs=['1'])\""
      ]
     },
     "metadata": {},
     "execution_count": 56
    }
   ],
   "source": [
    "from dataclasses import dataclass\n",
    "from typing import List\n",
    "\n",
    "@dataclass\n",
    "class Param:\n",
    "    inputs: List[str]\n",
    "    outputs: List[str]\n",
    "\n",
    "str(Param(inputs=['1 3', '1 1 1'], outputs=['1']))\n",
    "\n"
   ]
  },
  {
   "cell_type": "code",
   "execution_count": 65,
   "metadata": {},
   "outputs": [],
   "source": [
    "from gen_test import __root__\n",
    "\n",
    "path = __root__ / 'codes'\n",
    "\n",
    "with open(path / 'answer.txt', 'r') as f:\n",
    "    txt = f.read()\n",
    "txt = txt.format(link='hoge', title='fuga')\n",
    "with open('./answer.py', 'w') as f:\n",
    "    f.write(txt)\n"
   ]
  },
  {
   "cell_type": "code",
   "execution_count": 90,
   "metadata": {},
   "outputs": [
    {
     "output_type": "error",
     "ename": "KeyError",
     "evalue": "'problem'",
     "traceback": [
      "\u001b[0;31m---------------------------------------------------------------------------\u001b[0m",
      "\u001b[0;31mKeyError\u001b[0m                                  Traceback (most recent call last)",
      "\u001b[0;32m<ipython-input-90-dff2f9d65cb8>\u001b[0m in \u001b[0;36m<module>\u001b[0;34m\u001b[0m\n\u001b[1;32m      5\u001b[0m \u001b[0;32mwith\u001b[0m \u001b[0mopen\u001b[0m\u001b[0;34m(\u001b[0m\u001b[0mpath\u001b[0m \u001b[0;34m/\u001b[0m \u001b[0;34m'test.txt'\u001b[0m\u001b[0;34m,\u001b[0m \u001b[0;34m'r'\u001b[0m\u001b[0;34m)\u001b[0m \u001b[0;32mas\u001b[0m \u001b[0mf\u001b[0m\u001b[0;34m:\u001b[0m\u001b[0;34m\u001b[0m\u001b[0;34m\u001b[0m\u001b[0m\n\u001b[1;32m      6\u001b[0m     \u001b[0mtxt\u001b[0m \u001b[0;34m=\u001b[0m \u001b[0mf\u001b[0m\u001b[0;34m.\u001b[0m\u001b[0mread\u001b[0m\u001b[0;34m(\u001b[0m\u001b[0;34m)\u001b[0m\u001b[0;34m\u001b[0m\u001b[0;34m\u001b[0m\u001b[0m\n\u001b[0;32m----> 7\u001b[0;31m \u001b[0mtxt\u001b[0m \u001b[0;34m=\u001b[0m \u001b[0mtxt\u001b[0m\u001b[0;34m.\u001b[0m\u001b[0mformat\u001b[0m\u001b[0;34m(\u001b[0m\u001b[0mlink\u001b[0m\u001b[0;34m=\u001b[0m\u001b[0;34m'hoge'\u001b[0m\u001b[0;34m,\u001b[0m \u001b[0mtitle\u001b[0m\u001b[0;34m=\u001b[0m\u001b[0;34m'fuga'\u001b[0m\u001b[0;34m)\u001b[0m\u001b[0;34m\u001b[0m\u001b[0;34m\u001b[0m\u001b[0m\n\u001b[0m\u001b[1;32m      8\u001b[0m \u001b[0;32mwith\u001b[0m \u001b[0mopen\u001b[0m\u001b[0;34m(\u001b[0m\u001b[0;34m'./test.py'\u001b[0m\u001b[0;34m,\u001b[0m \u001b[0;34m'w'\u001b[0m\u001b[0;34m)\u001b[0m \u001b[0;32mas\u001b[0m \u001b[0mf\u001b[0m\u001b[0;34m:\u001b[0m\u001b[0;34m\u001b[0m\u001b[0;34m\u001b[0m\u001b[0m\n\u001b[1;32m      9\u001b[0m     \u001b[0mf\u001b[0m\u001b[0;34m.\u001b[0m\u001b[0mwrite\u001b[0m\u001b[0;34m(\u001b[0m\u001b[0mtxt\u001b[0m\u001b[0;34m)\u001b[0m\u001b[0;34m\u001b[0m\u001b[0;34m\u001b[0m\u001b[0m\n",
      "\u001b[0;31mKeyError\u001b[0m: 'problem'"
     ]
    }
   ],
   "source": [
    "from gen_test import __root__\n",
    "\n",
    "path = __root__ / 'codes'\n",
    "\n",
    "with open(path / 'test.txt', 'r') as f:\n",
    "    txt = f.read()\n",
    "txt = txt.format(link='hoge', title='fuga')\n",
    "with open('./test.py', 'w') as f:\n",
    "    f.write(txt)\n"
   ]
  },
  {
   "cell_type": "code",
   "execution_count": 89,
   "metadata": {},
   "outputs": [
    {
     "output_type": "stream",
     "name": "stdout",
     "text": [
      "    [\n        Param(inputs=[\"0 10\", \"0 10\"], outputs=[\"10\"]),\n        Param(inputs=[\"-100 -100\", \"100 100\"], outputs=[\"-200\"]),\n        Param(inputs=[\"-100 100\", \"-100 100\"], outputs=[\"200\"]),\n    ],\n"
     ]
    }
   ],
   "source": [
    "from typing import List, Tuple\n",
    "io = [(['0 10', '0 10'], ['10']), (['-100 -100', '100 100'], ['-200']), (['-100 100', '-100 100'], ['200'])]\n",
    "\n",
    "def format_param(io: List[Tuple[List[str], List[str]]], indent_num=4):\n",
    "    indent = ' ' * 4\n",
    "    pt = [f\"Param(inputs={inp}, outputs={out})\" for inp, out in io]\n",
    "    pt = map(lambda x: x.replace(\"'\", '\"'), pt)\n",
    "    pt = list(map(lambda x: indent * 2 + x + ',', pt))\n",
    "    pt = [indent + '['] + pt + [indent + '],']\n",
    "    print('\\n'.join(pt))\n",
    "\n",
    "format_param(io)"
   ]
  }
 ]
}
